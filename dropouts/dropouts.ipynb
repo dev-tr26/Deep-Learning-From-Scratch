{
 "cells": [
  {
   "cell_type": "code",
   "execution_count": 1,
   "id": "f6c813d2",
   "metadata": {},
   "outputs": [],
   "source": [
    "import torch \n",
    "import torch.nn as nn\n",
    "import numpy as np\n",
    "import torch.optim as optim"
   ]
  },
  {
   "cell_type": "markdown",
   "id": "a2a0b1b3",
   "metadata": {},
   "source": [
    "Generating sample data"
   ]
  },
  {
   "cell_type": "code",
   "execution_count": 2,
   "id": "1845b27a",
   "metadata": {},
   "outputs": [
    {
     "data": {
      "text/plain": [
       "<torch._C.Generator at 0x1fe9bc27010>"
      ]
     },
     "execution_count": 2,
     "metadata": {},
     "output_type": "execute_result"
    }
   ],
   "source": [
    "rng = np.random.default_rng(42)\n",
    "torch.manual_seed(42)"
   ]
  },
  {
   "cell_type": "code",
   "execution_count": 3,
   "id": "70ab76c2",
   "metadata": {},
   "outputs": [],
   "source": [
    "def make_blobs(n_per_class=100, centers=((-1.5, -1.0), (1.5, 1.0)), std=0.5, seed=None):\n",
    "    r = np.random.default_rng(seed)\n",
    "    c0, c1 = np.array(centers[0]), np.array(centers[1])\n",
    "    x0 = r.normal(loc=c0, scale=std, size=(n_per_class, 2))\n",
    "    x1 = r.normal(loc=c1, scale=std, size=(n_per_class, 2))\n",
    "    X = np.vstack([x0, x1]).astype(np.float32)   # shape (200, 2)\n",
    "    y = np.hstack([np.zeros(n_per_class), np.ones(n_per_class)]).astype(np.float32)  # shape (200,)\n",
    "    return X, y"
   ]
  },
  {
   "cell_type": "code",
   "execution_count": 4,
   "id": "19e7153d",
   "metadata": {},
   "outputs": [],
   "source": [
    "x_train, y_train = make_blobs(n_per_class=100, std=0.45, seed=1)\n",
    "x_test,  y_test  = make_blobs(n_per_class=100, std=0.45, seed=2)"
   ]
  },
  {
   "cell_type": "code",
   "execution_count": 5,
   "id": "65a8b5fd",
   "metadata": {},
   "outputs": [
    {
     "data": {
      "text/plain": [
       "array([[-1.3444871 , -0.63027185],\n",
       "       [-1.3513033 , -1.5864208 ],\n",
       "       [-1.0925899 , -0.79913145],\n",
       "       [-1.741629  , -0.73849684],\n",
       "       [-1.3359424 , -0.8676404 ],\n",
       "       [-1.48721   , -0.75397915],\n",
       "       [-1.8314043 , -1.0733094 ],\n",
       "       [-1.7169536 , -0.7305192 ],\n",
       "       [-1.482125  , -1.1316055 ],\n",
       "       [-1.8518589 , -1.1157365 ],\n",
       "       [-1.496336  , -1.1240213 ],\n",
       "       [-0.91767126, -0.54697406],\n",
       "       [-2.7200232 , -1.8500559 ],\n",
       "       [-1.5786475 , -1.1899856 ],\n",
       "       [-1.4038607 , -0.9022051 ],\n",
       "       [-0.5469726 , -1.5004094 ],\n",
       "       [-1.6699222 , -0.08075278],\n",
       "       [-1.2089837 , -0.7016215 ],\n",
       "       [-1.7313029 , -1.7416338 ],\n",
       "       [-1.4246409 , -0.95094365],\n",
       "       [-2.0523083 , -1.307452  ],\n",
       "       [-1.5324197 , -1.4251382 ],\n",
       "       [-1.5442215 , -0.9570326 ],\n",
       "       [-1.4839861 , -1.2278312 ],\n",
       "       [-1.2328134 , -0.5989749 ],\n",
       "       [-1.3556182 , -1.3682036 ],\n",
       "       [-1.1707565 , -1.225648  ],\n",
       "       [-1.1043777 , -1.4823043 ],\n",
       "       [-1.0884898 , -1.0090286 ],\n",
       "       [-2.061937  , -1.1412548 ],\n",
       "       [-1.475654  , -0.8772439 ],\n",
       "       [-1.9419847 , -1.4983178 ],\n",
       "       [-1.410187  , -1.2100374 ],\n",
       "       [-1.3940225 , -0.65821624],\n",
       "       [-2.2419543 , -0.88552535],\n",
       "       [-0.94890887, -1.133887  ],\n",
       "       [-1.8648666 , -0.66149026],\n",
       "       [-1.385949  , -0.5968526 ],\n",
       "       [-1.6553471 , -1.6668183 ],\n",
       "       [-1.5495049 , -1.2006227 ],\n",
       "       [-1.1511043 , -0.9128652 ],\n",
       "       [-2.2338822 , -1.5378234 ],\n",
       "       [-1.1022949 , -0.69410574],\n",
       "       [-1.7881095 , -1.000472  ],\n",
       "       [-1.2994919 , -0.78921807],\n",
       "       [-1.105691  , -0.88458145],\n",
       "       [-1.5426728 , -1.1164817 ],\n",
       "       [-1.0249157 , -2.0128844 ],\n",
       "       [-1.5623949 , -0.98515   ],\n",
       "       [-2.141407  , -0.85023385],\n",
       "       [-1.7930765 , -0.61189985],\n",
       "       [-1.5565164 , -0.69888103],\n",
       "       [-0.9515204 , -0.82768166],\n",
       "       [-1.8940746 , -1.6814433 ],\n",
       "       [-0.71097714, -1.0500815 ],\n",
       "       [-1.8098543 , -0.9350843 ],\n",
       "       [-1.5861351 , -0.61653596],\n",
       "       [-1.4847323 , -0.9938127 ],\n",
       "       [-1.8215609 , -0.7886944 ],\n",
       "       [-1.96524   , -0.70034975],\n",
       "       [-0.8142281 , -1.6861087 ],\n",
       "       [-2.6098032 , -0.72240454],\n",
       "       [-0.35344598, -1.4504162 ],\n",
       "       [-2.062813  , -0.73496395],\n",
       "       [-1.8783247 , -1.2277114 ],\n",
       "       [-1.6566528 , -0.7605991 ],\n",
       "       [-1.682386  , -0.87495273],\n",
       "       [-1.57944   , -1.380102  ],\n",
       "       [-1.6439219 , -1.4276799 ],\n",
       "       [-1.4970683 , -1.5057398 ],\n",
       "       [-1.9918025 , -0.34436718],\n",
       "       [-1.5239329 , -1.0242559 ],\n",
       "       [-1.2698087 , -1.1893857 ],\n",
       "       [-1.6028409 , -0.8086831 ],\n",
       "       [-1.3729129 , -1.5216836 ],\n",
       "       [-1.1249958 , -1.2656957 ],\n",
       "       [-1.9752356 , -1.4052138 ],\n",
       "       [-1.6757454 , -0.2677149 ],\n",
       "       [-2.0289912 , -0.9279658 ],\n",
       "       [-2.4620209 , -1.0007051 ],\n",
       "       [-1.095195  , -1.1064985 ],\n",
       "       [-1.7832097 , -0.89582   ],\n",
       "       [-1.1849318 , -0.7013541 ],\n",
       "       [-0.61238676, -0.9058746 ],\n",
       "       [-1.7665845 , -1.0566907 ],\n",
       "       [-1.5326244 , -0.95106816],\n",
       "       [-1.5135125 , -0.9217153 ],\n",
       "       [-2.2518826 , -0.62666696],\n",
       "       [-1.7586327 , -1.5279214 ],\n",
       "       [-1.213012  , -0.4072033 ],\n",
       "       [-1.2781373 , -0.9274783 ],\n",
       "       [-1.9194992 ,  0.2922053 ],\n",
       "       [-1.1038836 , -1.5126826 ],\n",
       "       [-1.8508371 , -0.96085936],\n",
       "       [-2.199629  , -0.9241163 ],\n",
       "       [-1.7065822 , -0.44817823],\n",
       "       [-1.0670304 , -2.2200785 ],\n",
       "       [-1.4812338 , -1.7278603 ],\n",
       "       [-1.0006629 , -0.92435235],\n",
       "       [-1.2532176 , -1.4793061 ],\n",
       "       [ 2.3227937 ,  1.9090331 ],\n",
       "       [ 1.020853  ,  1.1677668 ],\n",
       "       [ 1.1970139 ,  0.98939353],\n",
       "       [ 0.9304634 ,  1.8402154 ],\n",
       "       [ 1.0638692 ,  0.8667623 ],\n",
       "       [ 1.7256674 ,  0.7085977 ],\n",
       "       [ 1.3923094 ,  0.7463621 ],\n",
       "       [ 1.4399427 ,  0.4732558 ],\n",
       "       [ 1.3029053 ,  0.9068982 ],\n",
       "       [ 1.3498234 ,  1.0255104 ],\n",
       "       [ 1.368104  ,  1.3389452 ],\n",
       "       [ 1.3545618 ,  0.9385077 ],\n",
       "       [ 1.2008483 ,  0.7630683 ],\n",
       "       [ 0.93097824,  1.2334533 ],\n",
       "       [ 0.9858669 ,  0.66436464],\n",
       "       [ 1.6616601 ,  1.1811581 ],\n",
       "       [ 1.3199483 ,  0.09133039],\n",
       "       [ 1.689231  ,  1.1168035 ],\n",
       "       [ 0.86442846,  1.3466449 ],\n",
       "       [ 1.1845051 ,  0.49321535],\n",
       "       [ 1.5430788 ,  0.9196883 ],\n",
       "       [ 1.5911808 ,  0.27741337],\n",
       "       [ 2.3155036 ,  0.72880363],\n",
       "       [ 0.8071533 ,  1.278479  ],\n",
       "       [ 1.3403381 ,  1.1461864 ],\n",
       "       [ 1.3471762 ,  0.9731168 ],\n",
       "       [ 1.6105977 ,  0.6640062 ],\n",
       "       [ 1.8054328 ,  0.78854495],\n",
       "       [ 1.1086408 ,  1.0346646 ],\n",
       "       [ 1.7002686 ,  0.8969143 ],\n",
       "       [ 1.1118661 ,  1.2789035 ],\n",
       "       [ 0.70785207,  0.5361111 ],\n",
       "       [ 1.5177853 ,  0.38752326],\n",
       "       [ 1.5125974 ,  0.9753116 ],\n",
       "       [ 1.9044329 ,  0.58834434],\n",
       "       [ 1.2183421 ,  1.1499318 ],\n",
       "       [ 0.39409637,  2.395019  ],\n",
       "       [ 1.1856072 ,  0.67157423],\n",
       "       [ 1.8875074 ,  0.9820757 ],\n",
       "       [ 0.69925714,  1.2821174 ],\n",
       "       [ 1.88492   ,  0.79752415],\n",
       "       [ 1.3732798 ,  1.218693  ],\n",
       "       [ 1.0910488 ,  1.1972748 ],\n",
       "       [ 1.5896844 ,  0.6962803 ],\n",
       "       [ 0.87355417,  0.8984774 ],\n",
       "       [ 1.10606   ,  1.4506346 ],\n",
       "       [ 1.5648384 ,  1.351938  ],\n",
       "       [ 1.5605799 ,  1.1183054 ],\n",
       "       [ 1.1476505 ,  1.3006214 ],\n",
       "       [ 2.3031142 ,  0.8606406 ],\n",
       "       [ 1.2332515 ,  0.9289735 ],\n",
       "       [ 1.2834239 ,  0.68433434],\n",
       "       [ 1.5621872 ,  0.8690871 ],\n",
       "       [ 2.1474931 ,  1.0000907 ],\n",
       "       [ 1.6457604 ,  1.4284098 ],\n",
       "       [ 1.3646599 ,  1.6465315 ],\n",
       "       [ 1.2152876 ,  0.6362525 ],\n",
       "       [ 1.3351798 ,  0.9483772 ],\n",
       "       [ 0.8694068 ,  0.98420733],\n",
       "       [ 0.74963105,  1.6264622 ],\n",
       "       [ 1.4635514 ,  0.711119  ],\n",
       "       [ 1.0912478 ,  0.8270063 ],\n",
       "       [ 1.3996142 ,  0.52997005],\n",
       "       [ 1.0860922 ,  0.91577125],\n",
       "       [ 1.2656473 ,  1.4226459 ],\n",
       "       [ 2.0120416 ,  1.0072095 ],\n",
       "       [ 1.7131199 ,  0.39916524],\n",
       "       [ 1.7868379 ,  0.98623747],\n",
       "       [ 1.7181008 ,  1.7201602 ],\n",
       "       [ 0.473614  ,  1.1174266 ],\n",
       "       [ 1.0053964 ,  1.2664886 ],\n",
       "       [ 0.909009  ,  0.7770702 ],\n",
       "       [ 1.5912302 ,  1.2760792 ],\n",
       "       [ 1.5336573 ,  0.6432261 ],\n",
       "       [ 1.2509105 ,  1.3980263 ],\n",
       "       [ 1.4975252 ,  0.24228352],\n",
       "       [ 1.8796482 ,  1.1873118 ],\n",
       "       [ 1.893037  ,  0.84851766],\n",
       "       [ 1.8726704 ,  0.5225208 ],\n",
       "       [ 1.7564999 ,  0.7793289 ],\n",
       "       [ 1.8034582 ,  1.4525398 ],\n",
       "       [ 1.1688044 ,  0.9769467 ],\n",
       "       [ 1.5175296 ,  1.5353491 ],\n",
       "       [ 1.8197511 ,  0.45132512],\n",
       "       [ 1.7059237 ,  1.3352902 ],\n",
       "       [ 2.4557126 ,  0.2443829 ],\n",
       "       [ 1.2586415 ,  1.6000171 ],\n",
       "       [ 0.8902184 ,  0.46024275],\n",
       "       [ 1.732687  ,  1.4582839 ],\n",
       "       [ 1.1990938 ,  1.2430573 ],\n",
       "       [ 1.5526298 ,  1.6834371 ],\n",
       "       [ 1.4993167 ,  1.4456112 ],\n",
       "       [ 1.0935969 ,  0.9168045 ],\n",
       "       [ 1.456483  ,  1.5125986 ],\n",
       "       [ 1.7608259 ,  0.6617111 ],\n",
       "       [ 1.8068855 ,  1.3467841 ],\n",
       "       [ 1.4497595 ,  0.884052  ],\n",
       "       [ 1.4127885 ,  0.23725341],\n",
       "       [ 1.5849344 ,  1.1055601 ],\n",
       "       [ 1.1105121 ,  1.3341008 ]], dtype=float32)"
      ]
     },
     "execution_count": 5,
     "metadata": {},
     "output_type": "execute_result"
    }
   ],
   "source": [
    "x_train"
   ]
  },
  {
   "cell_type": "code",
   "execution_count": 6,
   "id": "44fd783e",
   "metadata": {},
   "outputs": [
    {
     "data": {
      "text/plain": [
       "array([0., 0., 0., 0., 0., 0., 0., 0., 0., 0., 0., 0., 0., 0., 0., 0., 0.,\n",
       "       0., 0., 0., 0., 0., 0., 0., 0., 0., 0., 0., 0., 0., 0., 0., 0., 0.,\n",
       "       0., 0., 0., 0., 0., 0., 0., 0., 0., 0., 0., 0., 0., 0., 0., 0., 0.,\n",
       "       0., 0., 0., 0., 0., 0., 0., 0., 0., 0., 0., 0., 0., 0., 0., 0., 0.,\n",
       "       0., 0., 0., 0., 0., 0., 0., 0., 0., 0., 0., 0., 0., 0., 0., 0., 0.,\n",
       "       0., 0., 0., 0., 0., 0., 0., 0., 0., 0., 0., 0., 0., 0., 0., 1., 1.,\n",
       "       1., 1., 1., 1., 1., 1., 1., 1., 1., 1., 1., 1., 1., 1., 1., 1., 1.,\n",
       "       1., 1., 1., 1., 1., 1., 1., 1., 1., 1., 1., 1., 1., 1., 1., 1., 1.,\n",
       "       1., 1., 1., 1., 1., 1., 1., 1., 1., 1., 1., 1., 1., 1., 1., 1., 1.,\n",
       "       1., 1., 1., 1., 1., 1., 1., 1., 1., 1., 1., 1., 1., 1., 1., 1., 1.,\n",
       "       1., 1., 1., 1., 1., 1., 1., 1., 1., 1., 1., 1., 1., 1., 1., 1., 1.,\n",
       "       1., 1., 1., 1., 1., 1., 1., 1., 1., 1., 1., 1., 1.], dtype=float32)"
      ]
     },
     "execution_count": 6,
     "metadata": {},
     "output_type": "execute_result"
    }
   ],
   "source": [
    "y_train"
   ]
  },
  {
   "cell_type": "code",
   "execution_count": 7,
   "id": "afcbaca6",
   "metadata": {},
   "outputs": [
    {
     "data": {
      "text/plain": [
       "(200, 2)"
      ]
     },
     "execution_count": 7,
     "metadata": {},
     "output_type": "execute_result"
    }
   ],
   "source": [
    "x_test.shape"
   ]
  },
  {
   "cell_type": "code",
   "execution_count": 8,
   "id": "a3cdfb3b",
   "metadata": {},
   "outputs": [
    {
     "data": {
      "text/plain": [
       "(200,)"
      ]
     },
     "execution_count": 8,
     "metadata": {},
     "output_type": "execute_result"
    }
   ],
   "source": [
    "y_train.shape"
   ]
  },
  {
   "cell_type": "code",
   "execution_count": 9,
   "id": "594e8627",
   "metadata": {},
   "outputs": [
    {
     "data": {
      "text/plain": [
       "(200, 2)"
      ]
     },
     "execution_count": 9,
     "metadata": {},
     "output_type": "execute_result"
    }
   ],
   "source": [
    "x_test.shape"
   ]
  },
  {
   "cell_type": "code",
   "execution_count": 10,
   "id": "aaf75b9a",
   "metadata": {},
   "outputs": [
    {
     "data": {
      "text/plain": [
       "(200,)"
      ]
     },
     "execution_count": 10,
     "metadata": {},
     "output_type": "execute_result"
    }
   ],
   "source": [
    "y_test.shape"
   ]
  },
  {
   "cell_type": "code",
   "execution_count": 11,
   "id": "8ad59d0f",
   "metadata": {},
   "outputs": [
    {
     "data": {
      "image/png": "[encoded data removed]",
      "text/plain": [
       "<Figure size 640x480 with 1 Axes>"
      ]
     },
     "metadata": {},
     "output_type": "display_data"
    }
   ],
   "source": [
    "import matplotlib.pyplot as plt\n",
    "\n",
    "\n",
    "plt.scatter(x_train[:,0], x_train[:,1], c=y_train, s=20, cmap=\"coolwarm\", label=\"Train\")\n",
    "plt.scatter(x_test[:,0],  x_test[:,1],  c=y_test,  s=20, cmap=\"coolwarm\", marker=\"x\", label=\"Test\")\n",
    "plt.legend()\n",
    "plt.title(\"Random 2D blobs (binary)\")\n",
    "plt.show()"
   ]
  },
  {
   "cell_type": "code",
   "execution_count": 12,
   "id": "5d5a6a2d",
   "metadata": {},
   "outputs": [],
   "source": [
    "class RegModel(nn.Module):\n",
    "    def __init__(self, num_features):\n",
    "        super().__init__()\n",
    "        self.sequential = nn.Sequential(\n",
    "            nn.Linear(num_features, 64),\n",
    "            nn.ReLU(),\n",
    "            nn.Linear(64,64),\n",
    "            nn.ReLU(),\n",
    "            nn.Linear(64,1)\n",
    "        )\n",
    "        \n",
    "    def forward(self, x):\n",
    "        x = self.sequential(x)\n",
    "        return x\n",
    "    \n",
    "    "
   ]
  },
  {
   "cell_type": "code",
   "execution_count": 24,
   "id": "9d416698",
   "metadata": {},
   "outputs": [],
   "source": [
    "\n",
    "x_train_tensor = torch.tensor(x_train, dtype=torch.float32)\n",
    "y_train_tensor = torch.tensor(y_train, dtype=torch.float32).view(-1,1 )\n",
    "\n",
    "x_test_tensor = torch.tensor(x_test, dtype=torch.float32)\n",
    "y_test_tensor = torch.tensor(y_test, dtype=torch.float32).view(-1,1)\n"
   ]
  },
  {
   "cell_type": "code",
   "execution_count": 25,
   "id": "ea221811",
   "metadata": {},
   "outputs": [
    {
     "data": {
      "text/plain": [
       "torch.Size([200, 2])"
      ]
     },
     "execution_count": 25,
     "metadata": {},
     "output_type": "execute_result"
    }
   ],
   "source": [
    "x_train_tensor.shape"
   ]
  },
  {
   "cell_type": "code",
   "execution_count": 26,
   "id": "6058215e",
   "metadata": {},
   "outputs": [],
   "source": [
    "model = RegModel(num_features=x_train_tensor.shape[1])\n",
    "optimizer = optim.Adam(model.parameters(), lr=0.01)\n",
    "loss_fn = nn.MSELoss()"
   ]
  },
  {
   "cell_type": "code",
   "execution_count": 27,
   "id": "9f4545ae",
   "metadata": {},
   "outputs": [],
   "source": [
    "epochs = 500"
   ]
  },
  {
   "cell_type": "code",
   "execution_count": 28,
   "id": "5fa36e53",
   "metadata": {},
   "outputs": [],
   "source": [
    "def train_model(model, optimizer, loss_fn, x_train_tensor, y_train_tensor,\n",
    "                x_test_tensor, y_test_tensor, epochs=500, eval_interval=50):\n",
    "    for epoch in range(epochs):\n",
    "        model.train()\n",
    "\n",
    "        predictions = model(x_train_tensor)\n",
    "        loss = loss_fn(predictions, y_train_tensor)\n",
    "\n",
    "        optimizer.zero_grad()\n",
    "        loss.backward()\n",
    "        optimizer.step()\n",
    "\n",
    "        if epoch % eval_interval == 0:\n",
    "            model.eval()\n",
    "            with torch.no_grad():\n",
    "                test_preds = model(x_test_tensor)\n",
    "                test_loss = loss_fn(test_preds, y_test_tensor)\n",
    "            print(f\"Epoch {epoch}: Train Loss = {loss.item():.4f}, Test Loss = {test_loss.item():.4f}\")\n",
    "    \n",
    "    return model \n"
   ]
  },
  {
   "cell_type": "code",
   "execution_count": 29,
   "id": "5ac10cab",
   "metadata": {},
   "outputs": [
    {
     "name": "stdout",
     "output_type": "stream",
     "text": [
      "Epoch 0: Train Loss = 0.7121, Test Loss = 0.6400\n",
      "Epoch 50: Train Loss = 0.0040, Test Loss = 0.0065\n",
      "Epoch 100: Train Loss = 0.0001, Test Loss = 0.0002\n",
      "Epoch 150: Train Loss = 0.0000, Test Loss = 0.0002\n",
      "Epoch 200: Train Loss = 0.0000, Test Loss = 0.0002\n",
      "Epoch 250: Train Loss = 0.0000, Test Loss = 0.0001\n",
      "Epoch 300: Train Loss = 0.0000, Test Loss = 0.0001\n",
      "Epoch 350: Train Loss = 0.0000, Test Loss = 0.0001\n",
      "Epoch 400: Train Loss = 0.0000, Test Loss = 0.0001\n",
      "Epoch 450: Train Loss = 0.0000, Test Loss = 0.0001\n"
     ]
    }
   ],
   "source": [
    "# Make sure labels are long for CrossEntropyLoss\n",
    "y_train_tensor_cls = torch.tensor(y_train.astype(int), dtype=torch.long)\n",
    "y_test_tensor_cls = torch.tensor(y_test.astype(int), dtype=torch.long)\n",
    "\n",
    "\n",
    "trained_model = train_model(model, optimizer, loss_fn, x_train_tensor, y_train_tensor,\n",
    "            x_test_tensor, y_test_tensor, epochs=500, eval_interval=50 )"
   ]
  },
  {
   "cell_type": "code",
   "execution_count": null,
   "id": "70fba386",
   "metadata": {},
   "outputs": [],
   "source": [
    "# model is completely overfitted "
   ]
  },
  {
   "cell_type": "code",
   "execution_count": null,
   "id": "48dead13",
   "metadata": {},
   "outputs": [],
   "source": [
    "# using dropouts "
   ]
  },
  {
   "cell_type": "code",
   "execution_count": null,
   "id": "83a89f09",
   "metadata": {},
   "outputs": [],
   "source": [
    "class RegModel(nn.Module):\n",
    "    def __init__(self, num_features):\n",
    "        super().__init__()\n",
    "        self.sequential = nn.Sequential(\n",
    "            nn.Linear(num_features, 64),\n",
    "            nn.ReLU(),\n",
    "            nn.Dropout(0.5),\n",
    "            nn.Linear(64,64),\n",
    "            nn.ReLU(),\n",
    "            nn.Dropout(0.5),\n",
    "            nn.Linear(64,1)\n",
    "        )\n",
    "        \n",
    "    def forward(self, x):\n",
    "        x = self.sequential(x)\n",
    "        return x\n",
    "    \n",
    "    "
   ]
  },
  {
   "cell_type": "code",
   "execution_count": null,
   "id": "524c65a8",
   "metadata": {},
   "outputs": [],
   "source": []
  },
  {
   "cell_type": "code",
   "execution_count": null,
   "id": "16d7b97d",
   "metadata": {},
   "outputs": [],
   "source": []
  },
  {
   "cell_type": "code",
   "execution_count": null,
   "id": "e822d00d",
   "metadata": {},
   "outputs": [],
   "source": []
  }
 ],
 "metadata": {
  "kernelspec": {
   "display_name": "Python 3",
   "language": "python",
   "name": "python3"
  },
  "language_info": {
   "codemirror_mode": {
    "name": "ipython",
    "version": 3
   },
   "file_extension": ".py",
   "mimetype": "text/x-python",
   "name": "python",
   "nbconvert_exporter": "python",
   "pygments_lexer": "ipython3",
   "version": "3.12.7"
  }
 },
 "nbformat": 4,
 "nbformat_minor": 5
}
