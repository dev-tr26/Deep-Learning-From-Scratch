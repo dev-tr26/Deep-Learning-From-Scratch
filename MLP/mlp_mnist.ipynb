{
  "cells": [
    {
      "cell_type": "markdown",
      "metadata": {
        "id": "u0ih1zutSk5Z"
      },
      "source": [
        "MLP on MNIST dataset"
      ]
    },
    {
      "cell_type": "markdown",
      "metadata": {
        "id": "vHDO8oqJLNIH"
      },
      "source": [
        "**MNIST Dataset**\n",
        "\n",
        "\n",
        "The MNIST dataset of handwritten digits has a training set of 60,000 examples, and a test set of 10,000 examples each of size 28 x 28 pixels. The digits have been size-normalized and centered in a fixed-size image.\n"
      ]
    },
    {
      "cell_type": "code",
      "execution_count": null,
      "metadata": {
        "id": "Xo_nmq-1-cBw"
      },
      "outputs": [],
      "source": [
        "import time\n",
        "import numpy as np\n",
        "from torch.utils.data.sampler import SubsetRandomSampler\n",
        "import torch\n",
        "import torch.nn as nn\n",
        "from torchvision import datasets\n",
        "import torchvision.transforms as transforms\n",
        "import torch.nn.functional as F                          # functional api\n",
        "from torch import optim                                  # optimizers\n",
        "\n",
        "\n",
        "device = torch.device(\"cuda\" if torch.cuda.is_available() else \"cpu\")\n",
        "\n",
        "import matplotlib.pyplot as plt\n",
        "\n",
        "# display plots in notebook only\n",
        "%matplotlib inline"
      ]
    },
    {
      "cell_type": "code",
      "execution_count": null,
      "metadata": {
        "id": "SDwBSc72TNYr"
      },
      "outputs": [],
      "source": [
        "# num of subprocesses to use for data loading\n",
        "num_workers = 0\n",
        "\n",
        "# how many samples per batch to load\n",
        "batch_size = 20\n",
        "\n",
        "# percentage of training set to use as validation\n",
        "val_size = 0.2\n",
        "\n",
        "\n",
        "# convert data to torch.FloatTensor\n",
        "\n",
        "transform = transforms.ToTensor()\n",
        "\n",
        "train_data = datasets.MNIST(root='data', train=True, download=True, transform=transform)\n",
        "test_data = datasets.MNIST(root='data', train=False , download=True, transform=transform)"
      ]
    },
    {
      "cell_type": "code",
      "execution_count": null,
      "metadata": {
        "colab": {
          "base_uri": "https://localhost:8080/"
        },
        "id": "jAu2_lEpTNbZ",
        "outputId": "7dc0222a-81fa-4413-c36d-01d80098a6bb"
      },
      "outputs": [
        {
          "name": "stdout",
          "output_type": "stream",
          "text": [
            "Training samples 60000\n",
            "Validation samples 10000\n",
            "Test samples 10000\n"
          ]
        }
      ],
      "source": [
        "# obtain training indices used for validation\n",
        "\n",
        "num_test = len(test_data)\n",
        "indices = list(range(num_test))\n",
        "np.random.shuffle(indices)\n",
        "split = int(np.floor(val_size * num_test))\n",
        "test_idx , val_idx  = indices[split:], indices[:split]\n",
        "\n",
        "# define samples for obtaining training and validation batches\n",
        "test_sampler = SubsetRandomSampler(test_idx)\n",
        "val_sampler = SubsetRandomSampler(val_idx)\n",
        "\n",
        "# dataloader combines dataset and sampler\n",
        "train_loader = torch.utils.data.DataLoader(train_data,  batch_size=batch_size, num_workers=num_workers)\n",
        "val_loader = torch.utils.data.DataLoader(test_data,  batch_size=batch_size,  sampler=val_sampler, num_workers=num_workers)\n",
        "test_loader = torch.utils.data.DataLoader(test_data, batch_size=batch_size, sampler=test_sampler)\n",
        "\n",
        "\n",
        "print('Training samples', len(train_loader.dataset))\n",
        "print('Validation samples', len(val_loader.dataset))\n",
        "print('Test samples', len(test_loader.dataset))\n",
        "\n",
        "\n",
        "dataloaders_dict = {'train': train_loader, 'val': val_loader}"
      ]
    },
    {
      "cell_type": "markdown",
      "metadata": {
        "id": "U21JdjZNgQBN"
      },
      "source": [
        "##visualizing data"
      ]
    },
    {
      "cell_type": "code",
      "execution_count": null,
      "metadata": {
        "colab": {
          "base_uri": "https://localhost:8080/",
          "height": 135
        },
        "id": "HZIpinCfTNd6",
        "outputId": "9a20d806-a068-4911-e89f-e3a435e22fd7"
      },
      "outputs": [
        {
          "data": {
            "image/png": "[encoded data removed]",
            "text/plain": [
              "<Figure size 2500x400 with 20 Axes>"
            ]
          },
          "metadata": {},
          "output_type": "display_data"
        }
      ],
      "source": [
        "import matplotlib.pyplot as plt\n",
        "%matplotlib inline\n",
        "\n",
        "# single batch of training images\n",
        "\n",
        "dataiter = iter(train_loader)\n",
        "images, labels = next(dataiter)\n",
        "images = images.numpy()\n",
        "\n",
        "fig = plt.figure(figsize=(25,4))\n",
        "for index in np.arange(20):\n",
        "    img = fig.add_subplot(2, 10, index+1, xticks=[], yticks=[])\n",
        "    img.imshow(np.squeeze(images[index]), cmap='gray')\n",
        "    # print out the correct label for each image\n",
        "    # .item() gets the value contained in a Tensor\n",
        "    img.set_title(str(labels[index].item()))"
      ]
    },
    {
      "cell_type": "markdown",
      "metadata": {
        "id": "0qd1k3ZEh7MU"
      },
      "source": [
        "## define model"
      ]
    },
    {
      "cell_type": "code",
      "execution_count": null,
      "metadata": {
        "id": "9LYTrpuITNgp"
      },
      "outputs": [],
      "source": [
        "num_classes = 10\n",
        "epochs =5"
      ]
    },
    {
      "cell_type": "code",
      "execution_count": null,
      "metadata": {
        "colab": {
          "base_uri": "https://localhost:8080/"
        },
        "id": "Sy4aGs49TNja",
        "outputId": "3c9c72fc-848d-4b12-87ac-17445cfffa95"
      },
      "outputs": [
        {
          "name": "stdout",
          "output_type": "stream",
          "text": [
            "MLP(\n",
            "  (classifier): Sequential(\n",
            "    (0): Linear(in_features=784, out_features=16, bias=True)\n",
            "    (1): ReLU()\n",
            "    (2): Linear(in_features=16, out_features=10, bias=True)\n",
            "    (3): LogSoftmax(dim=1)\n",
            "  )\n",
            ")\n"
          ]
        }
      ],
      "source": [
        "class MLP(nn.Module):\n",
        "  def __init__(self):\n",
        "    super().__init__()\n",
        "    num_input_layers = 784\n",
        "    num_hidden_layers = 16\n",
        "    num_output_layers = num_classes\n",
        "\n",
        "    self.classifier = torch.nn.Sequential(\n",
        "        torch.nn.Linear(num_input_layers, num_hidden_layers),\n",
        "        torch.nn.ReLU(),\n",
        "        torch.nn.Linear(num_hidden_layers, num_output_layers),\n",
        "        torch.nn.LogSoftmax(dim=1)\n",
        "    )\n",
        "\n",
        "  def forward(self, x):\n",
        "    # flatten i/p layer\n",
        "    x = x.view(-1, 28 * 28)\n",
        "    x = self.classifier(x)\n",
        "    return x\n",
        "\n",
        "\n",
        "\n",
        "model = MLP()\n",
        "model = model.to(device)\n",
        "print(model)\n"
      ]
    },
    {
      "cell_type": "code",
      "execution_count": null,
      "metadata": {
        "id": "j6gzU8WiTNmY"
      },
      "outputs": [],
      "source": [
        "loss_fn = nn.NLLLoss()  # -ve log likelyhood loss used for muilticlass classification , o/p log probabilities\n",
        "optimizer = optim.Adam(model.parameters(), lr=0.001)\n"
      ]
    },
    {
      "cell_type": "code",
      "execution_count": null,
      "metadata": {
        "id": "UJNqwdVdwN-7"
      },
      "outputs": [],
      "source": [
        "import copy, time, torch\n",
        "\n",
        "def train_model(model, dataloaders, loss_fn, optimizer , num_epochs):\n",
        "  before_time = time.time()\n",
        "\n",
        "  history = dict()\n",
        "\n",
        "  best_model_weights = copy.deepcopy(model.state_dict())\n",
        "  best_acc = 0.0\n",
        "\n",
        "  for epoch in range(num_epochs):\n",
        "      print('Epoch {}/{}'.format(epoch, num_epochs - 1))\n",
        "      print('-' * 10)\n",
        "\n",
        "      # Each epoch has a training and validation phase\n",
        "      for phase in ['train', 'val']:\n",
        "          if phase == 'train':\n",
        "              model.train()  # Set model to training mode  , # Enable dropout, batchnorm, etc.\n",
        "          else:\n",
        "              model.eval()   # Set model to evaluate mode  , # disable dropout, batchnorm, etc.\n",
        "\n",
        "          running_loss = 0.0\n",
        "          running_corrects = 0\n",
        "\n",
        "\n",
        "          for inputs, labels in dataloaders[phase]:\n",
        "              inputs = inputs.to(device)\n",
        "              labels = labels.to(device)\n",
        "\n",
        "              # zero the parameter gradients\n",
        "              optimizer.zero_grad()\n",
        "\n",
        "              # forward\n",
        "              # track history if only in train\n",
        "              with torch.set_grad_enabled(phase == 'train'):\n",
        "                  # Get model outputs and calculate loss\n",
        "\n",
        "                  # backward + optimize only if in training phase\n",
        "                  if phase == 'train':\n",
        "                      outputs = model(inputs)\n",
        "                      loss = loss_fn(outputs, labels)\n",
        "                      loss.backward()\n",
        "                      optimizer.step()\n",
        "\n",
        "                  else:\n",
        "                      outputs = model(inputs)\n",
        "                      loss = loss_fn(outputs, labels)\n",
        "\n",
        "                  _, preds = torch.max(outputs, 1)\n",
        "\n",
        "              # accuracy calculation\n",
        "              running_loss += loss.item() * inputs.size(0)\n",
        "              running_corrects += torch.sum(preds == labels.data)\n",
        "\n",
        "          epoch_loss = running_loss / (len(dataloaders[phase])*batch_size)\n",
        "          epoch_acc = running_corrects.double() / (len(dataloaders[phase])*batch_size)\n",
        "\n",
        "          print('{} Loss: {:.4f} Acc: {:.4f}'.format(phase, epoch_loss, epoch_acc))\n",
        "          print (len(dataloaders[phase].dataset))\n",
        "\n",
        "          # deep copy the model\n",
        "          if phase == 'val' and epoch_acc > best_acc:\n",
        "              best_acc = epoch_acc\n",
        "              best_model_wts = copy.deepcopy(model.state_dict())\n",
        "\n",
        "          if phase+'_acc' in history:\n",
        "              # append the new number to the existing array at this slot\n",
        "              history[phase+'_acc'].append(epoch_acc)\n",
        "          else:\n",
        "              # create a new array in this slot\n",
        "              history[phase+'_acc'] = [epoch_acc]\n",
        "\n",
        "          if phase+'_loss' in history:\n",
        "              # append the new number to the existing array at this slot\n",
        "              history[phase+'_loss'].append(epoch_loss)\n",
        "          else:\n",
        "              # create a new array in this slot\n",
        "              history[phase+'_loss'] = [epoch_loss]\n",
        "\n",
        "  time_elapsed = time.time() - before_time\n",
        "  print('Training complete in {:.0f}m {:.0f}s'.format(time_elapsed // 60, time_elapsed % 60))\n",
        "  print('Best val Acc: {:4f}'.format(best_acc))\n",
        "\n",
        "  # load best model weights\n",
        "  model.load_state_dict(best_model_weights)\n",
        "  return model, history\n",
        "\n"
      ]
    },
    {
      "cell_type": "code",
      "execution_count": 9,
      "metadata": {
        "colab": {
          "base_uri": "https://localhost:8080/"
        },
        "id": "cNOS6mhBVQHc",
        "outputId": "5d06e3dd-3716-43e3-fb77-bfa328acc02e"
      },
      "outputs": [
        {
          "name": "stdout",
          "output_type": "stream",
          "text": [
            "Epoch 0/4\n",
            "----------\n",
            "train Loss: 0.3998 Acc: 0.8904\n",
            "60000\n",
            "val Loss: 0.2548 Acc: 0.9205\n",
            "10000\n",
            "Epoch 1/4\n",
            "----------\n",
            "train Loss: 0.2342 Acc: 0.9315\n",
            "60000\n",
            "val Loss: 0.2030 Acc: 0.9380\n",
            "10000\n",
            "Epoch 2/4\n",
            "----------\n",
            "train Loss: 0.1984 Acc: 0.9425\n",
            "60000\n",
            "val Loss: 0.1829 Acc: 0.9400\n",
            "10000\n",
            "Epoch 3/4\n",
            "----------\n",
            "train Loss: 0.1778 Acc: 0.9479\n",
            "60000\n",
            "val Loss: 0.1744 Acc: 0.9430\n",
            "10000\n",
            "Epoch 4/4\n",
            "----------\n",
            "train Loss: 0.1635 Acc: 0.9522\n",
            "60000\n",
            "val Loss: 0.1677 Acc: 0.9445\n",
            "10000\n",
            "Training complete in 1m 11s\n",
            "Best val Acc: 0.944500\n"
          ]
        }
      ],
      "source": [
        "model, history = train_model(model, dataloaders_dict, loss_fn, optimizer, epochs)\n"
      ]
    },
    {
      "cell_type": "code",
      "execution_count": null,
      "metadata": {
        "colab": {
          "base_uri": "https://localhost:8080/"
        },
        "id": "g71QcirGyt0p",
        "outputId": "17d03446-2b2a-4c64-baad-487c0c0b6c69"
      },
      "outputs": [
        {
          "data": {
            "text/plain": [
              "{'train_acc': [tensor(0.8904, device='cuda:0', dtype=torch.float64),\n",
              "  tensor(0.9315, device='cuda:0', dtype=torch.float64),\n",
              "  tensor(0.9425, device='cuda:0', dtype=torch.float64),\n",
              "  tensor(0.9479, device='cuda:0', dtype=torch.float64),\n",
              "  tensor(0.9522, device='cuda:0', dtype=torch.float64)],\n",
              " 'train_loss': [0.39979767160862684,\n",
              "  0.2342111974437721,\n",
              "  0.19837656703886267,\n",
              "  0.1778133421172388,\n",
              "  0.1634732293811006],\n",
              " 'val_acc': [tensor(0.9205, device='cuda:0', dtype=torch.float64),\n",
              "  tensor(0.9380, device='cuda:0', dtype=torch.float64),\n",
              "  tensor(0.9400, device='cuda:0', dtype=torch.float64),\n",
              "  tensor(0.9430, device='cuda:0', dtype=torch.float64),\n",
              "  tensor(0.9445, device='cuda:0', dtype=torch.float64)],\n",
              " 'val_loss': [0.2547650855779648,\n",
              "  0.20300494085997342,\n",
              "  0.18293729808181525,\n",
              "  0.17439722681883724,\n",
              "  0.16774958050809802]}"
            ]
          },
          "execution_count": 10,
          "metadata": {},
          "output_type": "execute_result"
        }
      ],
      "source": [
        "history"
      ]
    },
    {
      "cell_type": "code",
      "execution_count": null,
      "metadata": {
        "id": "hDY-GmMFzgaq"
      },
      "outputs": [],
      "source": [
        "# convert tensors to numpy arrays"
      ]
    },
    {
      "cell_type": "code",
      "execution_count": null,
      "metadata": {
        "colab": {
          "base_uri": "https://localhost:8080/",
          "height": 927
        },
        "id": "K3XKL0NpUnXn",
        "outputId": "849ef567-9ad5-4e54-a90a-f2777ce5f7c2"
      },
      "outputs": [
        {
          "data": {
            "image/png": "[encoded data removed]",
            "text/plain": [
              "<Figure size 640x480 with 1 Axes>"
            ]
          },
          "metadata": {},
          "output_type": "display_data"
        },
        {
          "data": {
            "image/png": "[encoded data removed]",
            "text/plain": [
              "<Figure size 640x480 with 1 Axes>"
            ]
          },
          "metadata": {},
          "output_type": "display_data"
        }
      ],
      "source": [
        "import matplotlib.pyplot as plt\n",
        "\n",
        "# Plot accuracy\n",
        "plt.plot([acc.cpu().numpy() if torch.is_tensor(acc) else acc for acc in history['train_acc']])\n",
        "plt.plot([acc.cpu().numpy() if torch.is_tensor(acc) else acc for acc in history['val_acc']])\n",
        "plt.title('Model Accuracy')\n",
        "plt.ylabel('Accuracy')\n",
        "plt.xlabel('Epoch')\n",
        "plt.legend(['Train', 'Val'], loc='upper left')\n",
        "plt.show()\n",
        "\n",
        "# Plot loss\n",
        "plt.plot(history['train_loss'])\n",
        "plt.plot(history['val_loss'])\n",
        "plt.title('Model Loss')\n",
        "plt.ylabel('Loss')\n",
        "plt.xlabel('Epoch')\n",
        "plt.legend(['Train', 'Val'], loc='upper left')\n",
        "plt.show()\n"
      ]
    },
    {
      "cell_type": "code",
      "execution_count": 21,
      "metadata": {
        "colab": {
          "base_uri": "https://localhost:8080/"
        },
        "id": "0H6pXROCUnVI",
        "outputId": "49fb0111-6fab-43c2-9132-4af5d6e4fcf1"
      },
      "outputs": [
        {
          "name": "stdout",
          "output_type": "stream",
          "text": [
            "Test Loss: 1.859032\n",
            "\n",
            "Test Accuracy of     0:  0% ( 0/776)\n",
            "Test Accuracy of     1:  0% ( 0/919)\n",
            "Test Accuracy of     2:  0% ( 0/825)\n",
            "Test Accuracy of     3:  0% ( 0/792)\n",
            "Test Accuracy of     4:  0% ( 0/784)\n",
            "Test Accuracy of     5:  5% (38/726)\n",
            "Test Accuracy of     6:  0% ( 0/767)\n",
            "Test Accuracy of     7: 96% (769/796)\n",
            "Test Accuracy of     8:  0% ( 0/797)\n",
            "Test Accuracy of     9:  0% ( 0/818)\n",
            "\n",
            "Test Accuracy (Overall): 10% (807/8000)\n"
          ]
        }
      ],
      "source": [
        "test_loss = 0.0\n",
        "true_class = [0 for _ in range(10)]\n",
        "total_class = [0 for _ in range(10)]\n",
        "\n",
        "model.eval()\n",
        "\n",
        "for data, target in test_loader:\n",
        "    data = data.to(device)\n",
        "    target = target.to(device)\n",
        "\n",
        "\n",
        "    output = model(data)\n",
        "    loss = loss_fn(output, target)\n",
        "    test_loss += loss.item() * data.size(0)\n",
        "\n",
        "    _, pred = torch.max(output, 1)\n",
        "    correct = pred.eq(target.view_as(pred)).cpu().numpy()\n",
        "\n",
        "    for i in range(len(target)):\n",
        "        label = target[i].item()\n",
        "        true_class[label] += correct[i]\n",
        "        total_class[label] += 1\n",
        "\n",
        "# Average test loss\n",
        "test_loss = test_loss / len(test_loader.dataset)\n",
        "print('Test Loss: {:.6f}\\n'.format(test_loss))\n",
        "\n",
        "for i in range(10):\n",
        "    if total_class[i] > 0:\n",
        "        acc = 100.0 * true_class[i] / total_class[i]\n",
        "        print('Test Accuracy of %5s: %2d%% (%2d/%2d)' %\n",
        "              (str(i), acc, true_class[i], total_class[i]))\n",
        "    else:\n",
        "        print('Test Accuracy of %5s: N/A (no test examples)' % str(i))\n",
        "\n",
        "# Overall accuracy\n",
        "total_correct = sum(true_class)\n",
        "total_samples = sum(total_class)\n",
        "print('\\nTest Accuracy (Overall): %2d%% (%2d/%2d)' %\n",
        "      (100.0 * total_correct / total_samples, total_correct, total_samples))\n"
      ]
    },
    {
      "cell_type": "code",
      "execution_count": 20,
      "metadata": {
        "colab": {
          "base_uri": "https://localhost:8080/"
        },
        "id": "zxtWyumxChPD",
        "outputId": "05f43689-04da-451f-cd52-9f537569de5f"
      },
      "outputs": [
        {
          "name": "stdout",
          "output_type": "stream",
          "text": [
            "Test Loss: 1.859032\n",
            "\n",
            "Test Accuracy of     0:  0% (0/776)\n",
            "Test Accuracy of     1:  0% (0/919)\n",
            "Test Accuracy of     2:  0% (0/825)\n",
            "Test Accuracy of     3:  0% (0/792)\n",
            "Test Accuracy of     4:  0% (0/784)\n",
            "Test Accuracy of     5:  5% (38/726)\n",
            "Test Accuracy of     6:  0% (0/767)\n",
            "Test Accuracy of     7: 97% (769/796)\n",
            "Test Accuracy of     8:  0% (0/797)\n",
            "Test Accuracy of     9:  0% (0/818)\n",
            "\n",
            "Test Accuracy (Overall): 10% (807/8000)\n"
          ]
        }
      ],
      "source": [
        "import numpy as np\n",
        "import torch\n",
        "\n",
        "# Set model to evaluation mode\n",
        "model.eval()\n",
        "\n",
        "test_loss = 0.0\n",
        "true_class = [0 for _ in range(10)]\n",
        "total_class = [0 for _ in range(10)]\n",
        "\n",
        "# Ensure loss_fn is the same as training: NLLLoss\n",
        "with torch.no_grad():\n",
        "    for data, target in test_loader:\n",
        "        data, target = data.to(device), target.to(device)\n",
        "\n",
        "        # Forward pass\n",
        "        output = model(data)\n",
        "        loss = loss_fn(output, target)\n",
        "        test_loss += loss.item() * data.size(0)\n",
        "\n",
        "        # Get predictions\n",
        "        _, preds = torch.max(output, 1)\n",
        "\n",
        "        # Per-class accuracy\n",
        "        for label, prediction in zip(target, preds):\n",
        "            total_class[label.item()] += 1\n",
        "            if label.item() == prediction.item():\n",
        "                true_class[label.item()] += 1\n",
        "\n",
        "# Average test loss\n",
        "test_loss = test_loss / len(test_loader.dataset)\n",
        "print(f'Test Loss: {test_loss:.6f}\\n')\n",
        "\n",
        "# Per-class accuracy\n",
        "for i in range(10):\n",
        "    if total_class[i] > 0:\n",
        "        acc = 100 * true_class[i] / total_class[i]\n",
        "        print(f'Test Accuracy of {i:5}: {acc:2.0f}% ({true_class[i]}/{total_class[i]})')\n",
        "    else:\n",
        "        print(f'Test Accuracy of {i:5}: N/A (no test examples)')\n",
        "\n",
        "# Overall accuracy\n",
        "total_correct = sum(true_class)\n",
        "total_samples = sum(total_class)\n",
        "overall_acc = 100. * total_correct / total_samples\n",
        "print(f'\\nTest Accuracy (Overall): {overall_acc:.0f}% ({total_correct}/{total_samples})')\n"
      ]
    },
    {
      "cell_type": "code",
      "execution_count": 18,
      "metadata": {
        "colab": {
          "base_uri": "https://localhost:8080/"
        },
        "id": "IivxspVwBdof",
        "outputId": "b696ca69-fea0-4407-aa77-84f4cbb8ba99"
      },
      "outputs": [
        {
          "name": "stdout",
          "output_type": "stream",
          "text": [
            "Preds: [7 7 7 7 7 7 7 7 7 7]\n",
            "Labels: [5 0 4 1 9 2 1 3 1 4]\n"
          ]
        }
      ],
      "source": [
        "print(\"Preds:\", pred[:10].cpu().numpy())\n",
        "print(\"Labels:\", labels[:10].cpu().numpy())"
      ]
    },
    {
      "cell_type": "code",
      "execution_count": 19,
      "metadata": {
        "id": "6GFk0loOBuYR"
      },
      "outputs": [],
      "source": [
        "transform = transforms.Compose([\n",
        "    transforms.ToTensor(),\n",
        "    transforms.Normalize((0.5,), (0.5,))  # must match training\n",
        "])\n"
      ]
    },
    {
      "cell_type": "code",
      "execution_count": 23,
      "metadata": {
        "colab": {
          "base_uri": "https://localhost:8080/",
          "height": 135
        },
        "id": "cJJtdOt8UnSH",
        "outputId": "8386a0bd-9cb5-47ed-d938-ae4557e1a36e"
      },
      "outputs": [
        {
          "data": {
            "image/png": "[encoded data removed]",
            "text/plain": [
              "<Figure size 2500x400 with 20 Axes>"
            ]
          },
          "metadata": {},
          "output_type": "display_data"
        }
      ],
      "source": [
        "# obtain one batch of test images\n",
        "dataiter = iter(test_loader)\n",
        "images, labels = next(dataiter)\n",
        "images = images.to(device)\n",
        "labels = labels.to(device)\n",
        "\n",
        "\n",
        "# get sample outputs\n",
        "output = model(images)\n",
        "# convert output probabilities to predicted class\n",
        "_, preds = torch.max(output, 1)\n",
        "# prep images for display\n",
        "images = images.cpu().numpy()\n",
        "\n",
        "# plot the images in the batch, along with predicted and true labels\n",
        "fig = plt.figure(figsize=(25, 4))\n",
        "for idx in np.arange(20):\n",
        "    ax = fig.add_subplot(2, 10, idx+1, xticks=[], yticks=[])\n",
        "    ax.imshow(np.squeeze(images[idx]), cmap='gray')\n",
        "    ax.set_title(\"{} ({})\".format(str(preds[idx].item()), str(labels[idx].item())),\n",
        "                 color=(\"green\" if preds[idx]==labels[idx] else \"red\"))"
      ]
    },
    {
      "cell_type": "code",
      "execution_count": null,
      "metadata": {
        "id": "j74_ht3gUnPY"
      },
      "outputs": [],
      "source": []
    },
    {
      "cell_type": "code",
      "execution_count": null,
      "metadata": {
        "id": "oC39aV45UnMq"
      },
      "outputs": [],
      "source": []
    },
    {
      "cell_type": "code",
      "execution_count": null,
      "metadata": {
        "id": "Umv_7kxdaG5I"
      },
      "outputs": [],
      "source": []
    },
    {
      "cell_type": "code",
      "execution_count": null,
      "metadata": {
        "id": "XFieYEMcUnJo"
      },
      "outputs": [],
      "source": []
    },
    {
      "cell_type": "code",
      "execution_count": null,
      "metadata": {
        "id": "PVEYjW4jUnGV"
      },
      "outputs": [],
      "source": []
    },
    {
      "cell_type": "code",
      "execution_count": null,
      "metadata": {
        "id": "1kmwVA2Mb5Nv"
      },
      "outputs": [],
      "source": []
    },
    {
      "cell_type": "code",
      "execution_count": null,
      "metadata": {
        "id": "7JE8svJGb5Ku"
      },
      "outputs": [],
      "source": []
    },
    {
      "cell_type": "code",
      "execution_count": null,
      "metadata": {
        "id": "VZORXiBVb5Hv"
      },
      "outputs": [],
      "source": []
    },
    {
      "cell_type": "code",
      "execution_count": null,
      "metadata": {
        "id": "l01YstZuc_He"
      },
      "outputs": [],
      "source": []
    },
    {
      "cell_type": "code",
      "execution_count": null,
      "metadata": {
        "id": "oY_chr-vdFwQ"
      },
      "outputs": [],
      "source": []
    },
    {
      "cell_type": "code",
      "execution_count": null,
      "metadata": {
        "id": "-5A7nJMFb5EO"
      },
      "outputs": [],
      "source": []
    },
    {
      "cell_type": "code",
      "execution_count": null,
      "metadata": {
        "id": "wOnTrLGZb5Bf"
      },
      "outputs": [],
      "source": []
    },
    {
      "cell_type": "code",
      "execution_count": null,
      "metadata": {
        "id": "EIiWeQuTdogM"
      },
      "outputs": [],
      "source": []
    },
    {
      "cell_type": "code",
      "execution_count": null,
      "metadata": {
        "id": "lIMnYtbpdocc"
      },
      "outputs": [],
      "source": []
    },
    {
      "cell_type": "code",
      "execution_count": null,
      "metadata": {
        "id": "RqGVcZVidoZp"
      },
      "outputs": [],
      "source": []
    },
    {
      "cell_type": "code",
      "execution_count": null,
      "metadata": {
        "id": "LMz0vGpfdoWb"
      },
      "outputs": [],
      "source": []
    },
    {
      "cell_type": "code",
      "execution_count": null,
      "metadata": {
        "id": "86VoFQkzdoTa"
      },
      "outputs": [],
      "source": []
    },
    {
      "cell_type": "code",
      "execution_count": null,
      "metadata": {
        "id": "IU_WnOhcdoN6"
      },
      "outputs": [],
      "source": []
    },
    {
      "cell_type": "code",
      "execution_count": null,
      "metadata": {
        "id": "1-fpQgh8doKX"
      },
      "outputs": [],
      "source": []
    },
    {
      "cell_type": "markdown",
      "metadata": {
        "id": "QQrLPCCFw7yx"
      },
      "source": []
    },
    {
      "cell_type": "code",
      "execution_count": null,
      "metadata": {
        "id": "_yJGaa5Rb4-f"
      },
      "outputs": [],
      "source": []
    },
    {
      "cell_type": "code",
      "execution_count": null,
      "metadata": {
        "id": "bXLDHlunw7f-"
      },
      "outputs": [],
      "source": []
    },
    {
      "cell_type": "code",
      "execution_count": null,
      "metadata": {
        "id": "JpjJltQ7w7dR"
      },
      "outputs": [],
      "source": []
    },
    {
      "cell_type": "code",
      "execution_count": null,
      "metadata": {
        "id": "idrbGqt1w7Zd"
      },
      "outputs": [],
      "source": []
    },
    {
      "cell_type": "code",
      "execution_count": null,
      "metadata": {
        "id": "dfP4VwZow7V_"
      },
      "outputs": [],
      "source": []
    },
    {
      "cell_type": "code",
      "execution_count": null,
      "metadata": {
        "id": "nmK18SnOw7P3"
      },
      "outputs": [],
      "source": []
    },
    {
      "cell_type": "code",
      "execution_count": null,
      "metadata": {
        "id": "W5Dwr797y-lk"
      },
      "outputs": [],
      "source": []
    },
    {
      "cell_type": "code",
      "execution_count": null,
      "metadata": {
        "id": "llwy1claw7NI"
      },
      "outputs": [],
      "source": []
    }
  ],
  "metadata": {
    "accelerator": "GPU",
    "colab": {
      "gpuType": "T4",
      "provenance": []
    },
    "kernelspec": {
      "display_name": "Python 3",
      "name": "python3"
    },
    "language_info": {
      "name": "python",
      "version": "3.12.7"
    }
  },
  "nbformat": 4,
  "nbformat_minor": 0
}
