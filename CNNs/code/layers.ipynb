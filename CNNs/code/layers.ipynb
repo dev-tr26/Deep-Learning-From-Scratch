{
 "cells": [
  {
   "cell_type": "code",
   "execution_count": 2,
   "id": "082ff209",
   "metadata": {},
   "outputs": [
    {
     "name": "stdout",
     "output_type": "stream",
     "text": [
      "Conv2d(1, 32, kernel_size=(3, 3), stride=(1, 1), padding=(1, 1))\n"
     ]
    }
   ],
   "source": [
    "import torch\n",
    "import torch.nn as nn\n",
    "\n",
    "\n",
    "# define conv \n",
    "conv_layer = nn.Conv2d(\n",
    "    in_channels=1,\n",
    "    out_channels=32,\n",
    "    kernel_size=3,\n",
    "    stride=1,\n",
    "    padding=1\n",
    ")\n",
    "\n",
    "print(conv_layer)"
   ]
  },
  {
   "cell_type": "markdown",
   "id": "b0112a1d",
   "metadata": {},
   "source": [
    " Applying the Convolutional Layer \n",
    "\n",
    " input tensor must have the shap(batch_size, channels, height, width)"
   ]
  },
  {
   "cell_type": "code",
   "execution_count": 3,
   "id": "dd9e739d",
   "metadata": {},
   "outputs": [
    {
     "name": "stdout",
     "output_type": "stream",
     "text": [
      "torch.Size([1, 32, 23, 28])\n"
     ]
    }
   ],
   "source": [
    "input_tensor = torch.randn(1, 1, 23,28) # grayscale img of 28x28\n",
    "\n",
    "output_tensor = conv_layer(input_tensor)\n",
    "\n",
    "print(output_tensor.shape)"
   ]
  },
  {
   "cell_type": "markdown",
   "id": "8917a09a",
   "metadata": {},
   "source": [
    "activation fun"
   ]
  },
  {
   "cell_type": "code",
   "execution_count": 4,
   "id": "f4368968",
   "metadata": {},
   "outputs": [
    {
     "name": "stdout",
     "output_type": "stream",
     "text": [
      "torch.Size([1, 32, 28, 28])\n",
      "torch.Size([1, 32, 28, 28])\n",
      "torch.Size([1, 32, 28, 28])\n"
     ]
    }
   ],
   "source": [
    " # Define the convolutional layer\n",
    "conv_layer = nn.Conv2d(in_channels =1, out_channels=32, kernel_size=3, stride=1, padding=1)\n",
    "\n",
    "\n",
    " # Define the activation and batch normalization layers\n",
    "activation_layer = nn.ReLU()\n",
    "bn_layer = nn.BatchNorm2d(num_features= 32)\n",
    "\n",
    " # Apply the layers to an input tensor\n",
    " \n",
    "input_tensor = torch.randn(1,1,28,28)\n",
    "output_tensor = conv_layer(input_tensor)\n",
    "activated_output = activation_layer(output_tensor)\n",
    "normalized_output = bn_layer(activated_output)\n",
    "\n",
    "\n",
    "print(output_tensor.shape)\n",
    "print(activated_output.shape)\n",
    "print(normalized_output.shape)"
   ]
  },
  {
   "cell_type": "markdown",
   "id": "66231337",
   "metadata": {},
   "source": [
    "POOLING LAYERS"
   ]
  },
  {
   "cell_type": "code",
   "execution_count": 5,
   "id": "900e8f72",
   "metadata": {},
   "outputs": [
    {
     "name": "stdout",
     "output_type": "stream",
     "text": [
      "input_shape :  torch.Size([1, 1, 4, 4])\n",
      "output_shape torch.Size([1, 1, 2, 2])\n"
     ]
    }
   ],
   "source": [
    "# max-pooling\n",
    "\n",
    "max_pool_layer = nn.MaxPool2d(kernel_size = 2, stride=2)\n",
    "\n",
    "#apply maxpooling to input_tensor \n",
    "\n",
    "input_tensor = torch.randn(1,1,4,4) \n",
    "output_tensor = max_pool_layer(input_tensor)\n",
    "\n",
    "print(\"input_shape : \", input_tensor.shape)\n",
    "print(\"output_shape\", output_tensor.shape)"
   ]
  },
  {
   "cell_type": "markdown",
   "id": "3ab6b82e",
   "metadata": {},
   "source": [
    "average pooling"
   ]
  },
  {
   "cell_type": "code",
   "execution_count": 6,
   "id": "e08c820a",
   "metadata": {},
   "outputs": [
    {
     "name": "stdout",
     "output_type": "stream",
     "text": [
      "input_shape :  torch.Size([1, 1, 4, 4])\n",
      "output_shape torch.Size([1, 1, 2, 2])\n"
     ]
    }
   ],
   "source": [
    "avg_pooling_layer = nn.AvgPool2d(kernel_size = 2, stride=2)\n",
    "out_avgpool_tensor = avg_pooling_layer(input_tensor)\n",
    "\n",
    "print(\"input_shape : \", input_tensor.shape)\n",
    "print(\"output_shape\", output_tensor.shape)\n"
   ]
  },
  {
   "cell_type": "code",
   "execution_count": null,
   "id": "943564b6",
   "metadata": {},
   "outputs": [],
   "source": []
  },
  {
   "cell_type": "code",
   "execution_count": null,
   "id": "ddd07785",
   "metadata": {},
   "outputs": [],
   "source": []
  },
  {
   "cell_type": "code",
   "execution_count": null,
   "id": "824ded1e",
   "metadata": {},
   "outputs": [],
   "source": []
  },
  {
   "cell_type": "code",
   "execution_count": null,
   "id": "1f69a58a",
   "metadata": {},
   "outputs": [],
   "source": []
  },
  {
   "cell_type": "code",
   "execution_count": null,
   "id": "4d283d9c",
   "metadata": {},
   "outputs": [],
   "source": []
  },
  {
   "cell_type": "code",
   "execution_count": null,
   "id": "f29b668a",
   "metadata": {},
   "outputs": [],
   "source": []
  }
 ],
 "metadata": {
  "kernelspec": {
   "display_name": "Python 3",
   "language": "python",
   "name": "python3"
  },
  "language_info": {
   "codemirror_mode": {
    "name": "ipython",
    "version": 3
   },
   "file_extension": ".py",
   "mimetype": "text/x-python",
   "name": "python",
   "nbconvert_exporter": "python",
   "pygments_lexer": "ipython3",
   "version": "3.12.7"
  }
 },
 "nbformat": 4,
 "nbformat_minor": 5
}
